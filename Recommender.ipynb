{
  "nbformat": 4,
  "nbformat_minor": 0,
  "metadata": {
    "colab": {
      "name": "Copy of Copy of Untitled3.ipynb",
      "provenance": [],
      "toc_visible": true,
      "include_colab_link": true
    },
    "kernelspec": {
      "name": "python3",
      "display_name": "Python 3"
    }
  },
  "cells": [
    {
      "cell_type": "markdown",
      "metadata": {
        "id": "view-in-github",
        "colab_type": "text"
      },
      "source": [
        "<a href=\"https://colab.research.google.com/github/vivekkchandra/CE888_Lab/blob/master/Recommender.ipynb\" target=\"_parent\"><img src=\"https://colab.research.google.com/assets/colab-badge.svg\" alt=\"Open In Colab\"/></a>"
      ]
    },
    {
      "cell_type": "code",
      "metadata": {
        "id": "gPKGSoPu0-pU",
        "colab_type": "code",
        "colab": {}
      },
      "source": [
        "import pandas as pd\n",
        "import numpy as np"
      ],
      "execution_count": 0,
      "outputs": []
    },
    {
      "cell_type": "code",
      "metadata": {
        "id": "LDKWFZmk1Jwn",
        "colab_type": "code",
        "colab": {}
      },
      "source": [
        "df = pd.read_csv(\"jester-data-1.csv\", header=None)\n",
        "print(df)"
      ],
      "execution_count": 0,
      "outputs": []
    },
    {
      "cell_type": "code",
      "metadata": {
        "id": "kkObPUPBDsPW",
        "colab_type": "code",
        "colab": {}
      },
      "source": [
        "df=df.iloc[:,1:] #Drop first column\n",
        "print(df)"
      ],
      "execution_count": 0,
      "outputs": []
    },
    {
      "cell_type": "markdown",
      "metadata": {
        "id": "CD0P0KdRdnY7",
        "colab_type": "text"
      },
      "source": [
        "***Helper Function***"
      ]
    },
    {
      "cell_type": "code",
      "metadata": {
        "id": "I1u3KT3tOp2X",
        "colab_type": "code",
        "colab": {}
      },
      "source": [
        "def replace(orig, percentage=0.1):\n",
        "  new_data = orig.copy()\n",
        "  rate = np.where(arr!=99)\n",
        "  n_rate = len(rate[0])\n",
        "  idx = np.random.choice(n_rate, size=int(percentage*n_rate), replace=False)\n",
        "  new_data[rate[0][idx], rate[1][idx]] = 99\n",
        "  return new_data, (rate[0][idx], rate[1][idx])"
      ],
      "execution_count": 0,
      "outputs": []
    },
    {
      "cell_type": "code",
      "metadata": {
        "id": "ZKp9HX5-OtaG",
        "colab_type": "code",
        "colab": {}
      },
      "source": [
        "arr=df.values\n",
        "new_arr, idx = replace(arr, 0.1)\n",
        "print(new_arr)"
      ],
      "execution_count": 0,
      "outputs": []
    },
    {
      "cell_type": "markdown",
      "metadata": {
        "id": "THdYvAMeQ4a6",
        "colab_type": "text"
      },
      "source": [
        "***Latent Features***"
      ]
    },
    {
      "cell_type": "code",
      "metadata": {
        "id": "ShefdGaEQm0S",
        "colab_type": "code",
        "colab": {}
      },
      "source": [
        "n_latent_factors = 2\n",
        "uratings = new_arr\n",
        "print(uratings)\n",
        "# Initialise as random values\n",
        "latent_upreferences = np.random.random((uratings.shape[0], n_latent_factors))\n",
        "print(latent_upreferences)\n",
        "latent_ifeatures = np.random.random((uratings.shape[1], n_latent_factors))\n",
        "print(latent_ifeatures)"
      ],
      "execution_count": 0,
      "outputs": []
    },
    {
      "cell_type": "code",
      "metadata": {
        "id": "qrS8cHlhQuaD",
        "colab_type": "code",
        "colab": {}
      },
      "source": [
        "def predict_rating(user_id, item_id):\n",
        "    \"\"\" Predict a rating given a user_id and an item_id.\n",
        "    \"\"\"\n",
        "    upreference = latent_upreferences[user_id]\n",
        "    ipreference = latent_ifeatures[item_id]\n",
        "    return upreference.dot(ipreference)\n",
        "\n",
        "\n",
        "def train(user_id, item_id, rating, alpha=0.0001):\n",
        "    \n",
        "    #print item_id\n",
        "    prediction_rating = predict_rating(user_id, item_id)\n",
        "    err =  prediction_rating - rating\n",
        "    #print err\n",
        "    upref_values = latent_upreferences[user_id][:]\n",
        "    latent_upreferences[user_id] -= alpha * err * latent_ifeatures[item_id]\n",
        "    latent_ifeatures[item_id] -= alpha * err * upref_values\n",
        "    return err\n",
        "    \n",
        "#change nan condition to not equal to 99\n",
        "#change 10000 modulo operation to 10, for 100 sgd() iterations\n",
        "def sgd(iterations=300000):\n",
        "    \"\"\" Iterate over all users and all items and train for \n",
        "        a certain number of iterations\n",
        "    \"\"\"\n",
        "    for iteration in range(iterations):\n",
        "        error = []\n",
        "        for user_id in range(latent_upreferences.shape[0]):\n",
        "            for item_id in range(latent_ifeatures.shape[0]):\n",
        "                rating = uratings[user_id][item_id]\n",
        "                if rating != 99:\n",
        "                    err = train(user_id, item_id, rating)\n",
        "                    error.append(err)\n",
        "        mse = (np.array(error) ** 2).mean()   \n",
        "        if (iteration % 10) == 0:\n",
        "            print(mse)"
      ],
      "execution_count": 0,
      "outputs": []
    },
    {
      "cell_type": "code",
      "metadata": {
        "id": "HWlq1dbERAwz",
        "colab_type": "code",
        "outputId": "1e8682a3-c603-4c05-8eb7-0083c864bb29",
        "colab": {
          "base_uri": "https://localhost:8080/",
          "height": 185
        }
      },
      "source": [
        "sgd(100)"
      ],
      "execution_count": 0,
      "outputs": [
        {
          "output_type": "stream",
          "text": [
            "18.77322846112157\n",
            "17.970004421922244\n",
            "17.909698770006923\n",
            "17.894767106292502\n",
            "17.887371862531595\n",
            "17.882667939824838\n",
            "17.879520909325787\n",
            "17.877435527677726\n",
            "17.876106250801364\n",
            "17.87532414047347\n"
          ],
          "name": "stdout"
        }
      ]
    },
    {
      "cell_type": "code",
      "metadata": {
        "id": "soAMZsXv-nyZ",
        "colab_type": "code",
        "colab": {}
      },
      "source": [
        "predicted = latent_upreferences.dot(latent_ifeatures.T)\n",
        "print(predicted)"
      ],
      "execution_count": 0,
      "outputs": []
    },
    {
      "cell_type": "code",
      "metadata": {
        "id": "yPFNXDgl-0Ub",
        "colab_type": "code",
        "colab": {}
      },
      "source": [
        "values = [zip(uratings[i], predicted[i]) for i in range(predicted.shape[0])]\n"
      ],
      "execution_count": 0,
      "outputs": []
    },
    {
      "cell_type": "code",
      "metadata": {
        "id": "9XMUrxnXtBbD",
        "colab_type": "code",
        "colab": {}
      },
      "source": [
        "comparison_data = pd.DataFrame(values)\n",
        "comparison_data.columns = df.columns"
      ],
      "execution_count": 0,
      "outputs": []
    },
    {
      "cell_type": "code",
      "metadata": {
        "id": "0dgv_yFD_C3C",
        "colab_type": "code",
        "colab": {}
      },
      "source": [
        "print(comparison_data)"
      ],
      "execution_count": 0,
      "outputs": []
    },
    {
      "cell_type": "code",
      "metadata": {
        "id": "BIuJjjZl_cDv",
        "colab_type": "code",
        "outputId": "2a65a1c9-57c5-48c9-a8ce-b241a0203e4d",
        "colab": {
          "base_uri": "https://localhost:8080/",
          "height": 34
        }
      },
      "source": [
        "#Calculate the performance (e.g., MSE) of the algorithm on the validation dataset\n",
        "error=(predicted[idx[0][:],idx[1][:]]-arr[idx[0][:],idx[1][:]])**2\n",
        "mse = sum(error)/len(error)\n",
        "mse"
      ],
      "execution_count": 0,
      "outputs": [
        {
          "output_type": "execute_result",
          "data": {
            "text/plain": [
              "52.52585004369682"
            ]
          },
          "metadata": {
            "tags": []
          },
          "execution_count": 21
        }
      ]
    },
    {
      "cell_type": "markdown",
      "metadata": {
        "id": "cRTGgXjX_ykD",
        "colab_type": "text"
      },
      "source": [
        "***Changing hyper-parameters (learning rate, number of iterations of SVD, number of latent factors)***\n",
        "\n",
        "learning rate changed to 0.0005\n",
        "\n",
        "features as 3\n",
        "\n",
        "30 iterations"
      ]
    },
    {
      "cell_type": "code",
      "metadata": {
        "id": "_xOY7j2Z_-hk",
        "colab_type": "code",
        "colab": {}
      },
      "source": [
        "# changed factors to 3\n",
        "n_latent_factors2 = 3\n",
        "\n",
        "uratings2 = new_arr\n",
        "uratings2\n",
        "# Initialise as random values\n",
        "latent_upreferences2 = np.random.random((uratings2.shape[0], n_latent_factors2))\n",
        "latent_ifeatures2 = np.random.random((uratings2.shape[1], n_latent_factors2))"
      ],
      "execution_count": 0,
      "outputs": []
    },
    {
      "cell_type": "code",
      "metadata": {
        "id": "ikbu40TEAHq9",
        "colab_type": "code",
        "colab": {}
      },
      "source": [
        "def predict_rating2(user_id, item_id):\n",
        "    \"\"\" Predict a rating given a user_id and an item_id.\n",
        "    \"\"\"\n",
        "    upreference2 = latent_upreferences2[user_id]\n",
        "    ipreference2 = latent_ifeatures2[item_id]\n",
        "    return upreference2.dot(ipreference2)\n",
        "\n",
        "#changed training to 0.0005\n",
        "def train2(user_id, item_id, rating, alpha=0.0005):\n",
        "    \n",
        "    #print item_id\n",
        "    prediction_rating2 = predict_rating2(user_id, item_id)\n",
        "    err =  prediction_rating2 - rating\n",
        "    #print err\n",
        "    upref_values2 = latent_upreferences2[user_id][:]\n",
        "    latent_upreferences2[user_id] -= alpha * err * latent_ifeatures2[item_id]\n",
        "    latent_ifeatures2[item_id] -= alpha * err * upref_values2\n",
        "    return err\n",
        "    \n",
        "\n",
        "def sgd2(iterations=30000):\n",
        "    \"\"\" Iterate over all users and all items and train for \n",
        "        a certain number of iterations\n",
        "    \"\"\"\n",
        "    for iteration in range(iterations):\n",
        "        error = []\n",
        "        for user_id in range(latent_upreferences2.shape[0]):\n",
        "            for item_id in range(latent_ifeatures2.shape[0]):\n",
        "                rating = uratings2[user_id][item_id]\n",
        "                if (rating!=99):\n",
        "                    err = train2(user_id, item_id, rating)\n",
        "                    error.append(err)\n",
        "        mse = (np.array(error) ** 2).mean()   \n",
        "        if (iteration % 1) == 0:\n",
        "            print(mse)"
      ],
      "execution_count": 0,
      "outputs": []
    },
    {
      "cell_type": "code",
      "metadata": {
        "id": "KUt-Xgaxmdp_",
        "colab_type": "code",
        "outputId": "2edbbb22-671f-4991-f7d6-cc11a45e187f",
        "colab": {
          "base_uri": "https://localhost:8080/",
          "height": 622
        }
      },
      "source": [
        "sgd2(30)"
      ],
      "execution_count": 0,
      "outputs": [
        {
          "output_type": "stream",
          "text": [
            "/usr/local/lib/python3.6/dist-packages/ipykernel_launcher.py:17: RuntimeWarning: overflow encountered in multiply\n",
            "/usr/local/lib/python3.6/dist-packages/ipykernel_launcher.py:16: RuntimeWarning: overflow encountered in multiply\n",
            "  app.launch_new_instance()\n",
            "/usr/local/lib/python3.6/dist-packages/ipykernel_launcher.py:16: RuntimeWarning: invalid value encountered in subtract\n",
            "  app.launch_new_instance()\n",
            "/usr/local/lib/python3.6/dist-packages/ipykernel_launcher.py:33: RuntimeWarning: overflow encountered in square\n"
          ],
          "name": "stderr"
        },
        {
          "output_type": "stream",
          "text": [
            "nan\n",
            "nan\n",
            "nan\n",
            "nan\n",
            "nan\n",
            "nan\n",
            "nan\n",
            "nan\n",
            "nan\n",
            "nan\n",
            "nan\n",
            "nan\n",
            "nan\n",
            "nan\n",
            "nan\n",
            "nan\n",
            "nan\n",
            "nan\n",
            "nan\n",
            "nan\n",
            "nan\n",
            "nan\n",
            "nan\n",
            "nan\n",
            "nan\n",
            "nan\n",
            "nan\n",
            "nan\n",
            "nan\n",
            "nan\n"
          ],
          "name": "stdout"
        }
      ]
    },
    {
      "cell_type": "code",
      "metadata": {
        "id": "JGPNPOJnAX5w",
        "colab_type": "code",
        "outputId": "f3760897-b324-4635-9ff0-8678996a60ca",
        "colab": {
          "base_uri": "https://localhost:8080/",
          "height": 134
        }
      },
      "source": [
        "prediction2 = latent_upreferences2.dot(latent_ifeatures2.T)\n",
        "prediction2"
      ],
      "execution_count": 0,
      "outputs": [
        {
          "output_type": "execute_result",
          "data": {
            "text/plain": [
              "array([[nan, nan, nan, ..., nan, nan, nan],\n",
              "       [nan, nan, nan, ..., nan, nan, nan],\n",
              "       [nan, nan, nan, ..., nan, nan, nan],\n",
              "       ...,\n",
              "       [nan, nan, nan, ..., nan, nan, nan],\n",
              "       [nan, nan, nan, ..., nan, nan, nan],\n",
              "       [nan, nan, nan, ..., nan, nan, nan]])"
            ]
          },
          "metadata": {
            "tags": []
          },
          "execution_count": 31
        }
      ]
    },
    {
      "cell_type": "code",
      "metadata": {
        "id": "D9RERgZMAcnq",
        "colab_type": "code",
        "colab": {}
      },
      "source": [
        "values2 = [zip(uratings2[i], prediction2[i]) for i in range(prediction2.shape[0])]\n",
        "comparison_data2 = pd.DataFrame(values2)\n",
        "comparison_data2.columns = df.columns"
      ],
      "execution_count": 0,
      "outputs": []
    },
    {
      "cell_type": "code",
      "metadata": {
        "id": "AuyEwsxvAjsl",
        "colab_type": "code",
        "colab": {}
      },
      "source": [
        "comparison_data2"
      ],
      "execution_count": 0,
      "outputs": []
    },
    {
      "cell_type": "code",
      "metadata": {
        "id": "ZQU9UpuZAmoj",
        "colab_type": "code",
        "outputId": "c3c61d3e-10a8-48e3-c6d2-1486bd14d062",
        "colab": {
          "base_uri": "https://localhost:8080/",
          "height": 34
        }
      },
      "source": [
        "error2=(prediction2[idx[0][:],idx[1][:]]-arr[idx[0][:],idx[1][:]])**2\n",
        "mse2 = sum(error2)/len(error2)\n",
        "mse2"
      ],
      "execution_count": 0,
      "outputs": [
        {
          "output_type": "execute_result",
          "data": {
            "text/plain": [
              "nan"
            ]
          },
          "metadata": {
            "tags": []
          },
          "execution_count": 34
        }
      ]
    },
    {
      "cell_type": "markdown",
      "metadata": {
        "id": "5phSauTgpO2d",
        "colab_type": "text"
      },
      "source": [
        "***Changing hyper-parameters (learning rate, number of iterations of SVD, number of latent factors)- PART 2***\n",
        "\n",
        "Learning rate is same as 0.0001\n",
        "\n",
        "features changed from 2 to 3\n",
        "\n",
        "200 iterations"
      ]
    },
    {
      "cell_type": "code",
      "metadata": {
        "id": "NDcJfMN9pP62",
        "colab_type": "code",
        "colab": {}
      },
      "source": [
        "# changed factors to 3\n",
        "n_latent_factors3 = 3\n",
        "\n",
        "uratings3 = new_arr\n",
        "uratings3\n",
        "# Initialise as random values\n",
        "latent_upreferences3 = np.random.random((uratings3.shape[0], n_latent_factors3))\n",
        "latent_ifeatures3 = np.random.random((uratings3.shape[1], n_latent_factors3))"
      ],
      "execution_count": 0,
      "outputs": []
    },
    {
      "cell_type": "code",
      "metadata": {
        "id": "zOmCxyqFpg6l",
        "colab_type": "code",
        "colab": {}
      },
      "source": [
        "def predict_rating3(user_id, item_id):\n",
        "    \"\"\" Predict a rating given a user_id and an item_id.\n",
        "    \"\"\"\n",
        "    upreference3 = latent_upreferences3[user_id]\n",
        "    ipreference3 = latent_ifeatures3[item_id]\n",
        "    return upreference3.dot(ipreference3)\n",
        "\n",
        "#changed training to 0.0001 - original\n",
        "def train3(user_id, item_id, rating, alpha=0.0001):\n",
        "    \n",
        "    #print item_id\n",
        "    prediction_rating3 = predict_rating3(user_id, item_id)\n",
        "    err =  prediction_rating3 - rating\n",
        "    #print err\n",
        "    upref_values3 = latent_upreferences3[user_id][:]\n",
        "    latent_upreferences3[user_id] -= alpha * err * latent_ifeatures3[item_id]\n",
        "    latent_ifeatures3[item_id] -= alpha * err * upref_values3\n",
        "    return err\n",
        "    \n",
        "\n",
        "def sgd3(iterations=30000):\n",
        "    \"\"\" Iterate over all users and all items and train for \n",
        "        a certain number of iterations\n",
        "    \"\"\"\n",
        "    for iteration in range(iterations):\n",
        "        error = []\n",
        "        for user_id in range(latent_upreferences3.shape[0]):\n",
        "            for item_id in range(latent_ifeatures3.shape[0]):\n",
        "                rating = uratings3[user_id][item_id]\n",
        "                if (rating!=99):\n",
        "                    err = train3(user_id, item_id, rating)\n",
        "                    error.append(err)\n",
        "        mse = (np.array(error) ** 2).mean()   \n",
        "        if (iteration % 10) == 0:\n",
        "            print(mse)"
      ],
      "execution_count": 0,
      "outputs": []
    },
    {
      "cell_type": "code",
      "metadata": {
        "id": "N85UJcqoqCoU",
        "colab_type": "code",
        "outputId": "71d47180-5027-4ec9-a8eb-6b112457ecfa",
        "colab": {
          "base_uri": "https://localhost:8080/",
          "height": 438
        }
      },
      "source": [
        "sgd3(200)"
      ],
      "execution_count": 0,
      "outputs": [
        {
          "output_type": "stream",
          "text": [
            "52.73999963265435\n",
            "24.537811751843055\n",
            "22.808193905453816\n",
            "18.260704602741665\n",
            "17.924529532151002\n",
            "17.847124964055315\n",
            "17.68933000370118\n",
            "17.331138508763726\n"
          ],
          "name": "stdout"
        },
        {
          "output_type": "error",
          "ename": "KeyboardInterrupt",
          "evalue": "ignored",
          "traceback": [
            "\u001b[0;31m---------------------------------------------------------------------------\u001b[0m",
            "\u001b[0;31mKeyboardInterrupt\u001b[0m                         Traceback (most recent call last)",
            "\u001b[0;32m<ipython-input-37-20d89da54427>\u001b[0m in \u001b[0;36m<module>\u001b[0;34m()\u001b[0m\n\u001b[0;32m----> 1\u001b[0;31m \u001b[0msgd3\u001b[0m\u001b[0;34m(\u001b[0m\u001b[0;36m200\u001b[0m\u001b[0;34m)\u001b[0m\u001b[0;34m\u001b[0m\u001b[0;34m\u001b[0m\u001b[0m\n\u001b[0m",
            "\u001b[0;32m<ipython-input-36-ff269c52a9ef>\u001b[0m in \u001b[0;36msgd3\u001b[0;34m(iterations)\u001b[0m\n\u001b[1;32m     29\u001b[0m                 \u001b[0mrating\u001b[0m \u001b[0;34m=\u001b[0m \u001b[0muratings3\u001b[0m\u001b[0;34m[\u001b[0m\u001b[0muser_id\u001b[0m\u001b[0;34m]\u001b[0m\u001b[0;34m[\u001b[0m\u001b[0mitem_id\u001b[0m\u001b[0;34m]\u001b[0m\u001b[0;34m\u001b[0m\u001b[0;34m\u001b[0m\u001b[0m\n\u001b[1;32m     30\u001b[0m                 \u001b[0;32mif\u001b[0m \u001b[0;34m(\u001b[0m\u001b[0mrating\u001b[0m\u001b[0;34m!=\u001b[0m\u001b[0;36m99\u001b[0m\u001b[0;34m)\u001b[0m\u001b[0;34m:\u001b[0m\u001b[0;34m\u001b[0m\u001b[0;34m\u001b[0m\u001b[0m\n\u001b[0;32m---> 31\u001b[0;31m                     \u001b[0merr\u001b[0m \u001b[0;34m=\u001b[0m \u001b[0mtrain3\u001b[0m\u001b[0;34m(\u001b[0m\u001b[0muser_id\u001b[0m\u001b[0;34m,\u001b[0m \u001b[0mitem_id\u001b[0m\u001b[0;34m,\u001b[0m \u001b[0mrating\u001b[0m\u001b[0;34m)\u001b[0m\u001b[0;34m\u001b[0m\u001b[0;34m\u001b[0m\u001b[0m\n\u001b[0m\u001b[1;32m     32\u001b[0m                     \u001b[0merror\u001b[0m\u001b[0;34m.\u001b[0m\u001b[0mappend\u001b[0m\u001b[0;34m(\u001b[0m\u001b[0merr\u001b[0m\u001b[0;34m)\u001b[0m\u001b[0;34m\u001b[0m\u001b[0;34m\u001b[0m\u001b[0m\n\u001b[1;32m     33\u001b[0m         \u001b[0mmse\u001b[0m \u001b[0;34m=\u001b[0m \u001b[0;34m(\u001b[0m\u001b[0mnp\u001b[0m\u001b[0;34m.\u001b[0m\u001b[0marray\u001b[0m\u001b[0;34m(\u001b[0m\u001b[0merror\u001b[0m\u001b[0;34m)\u001b[0m \u001b[0;34m**\u001b[0m \u001b[0;36m2\u001b[0m\u001b[0;34m)\u001b[0m\u001b[0;34m.\u001b[0m\u001b[0mmean\u001b[0m\u001b[0;34m(\u001b[0m\u001b[0;34m)\u001b[0m\u001b[0;34m\u001b[0m\u001b[0;34m\u001b[0m\u001b[0m\n",
            "\u001b[0;32m<ipython-input-36-ff269c52a9ef>\u001b[0m in \u001b[0;36mtrain3\u001b[0;34m(user_id, item_id, rating, alpha)\u001b[0m\n\u001b[1;32m     15\u001b[0m     \u001b[0mupref_values3\u001b[0m \u001b[0;34m=\u001b[0m \u001b[0mlatent_upreferences3\u001b[0m\u001b[0;34m[\u001b[0m\u001b[0muser_id\u001b[0m\u001b[0;34m]\u001b[0m\u001b[0;34m[\u001b[0m\u001b[0;34m:\u001b[0m\u001b[0;34m]\u001b[0m\u001b[0;34m\u001b[0m\u001b[0;34m\u001b[0m\u001b[0m\n\u001b[1;32m     16\u001b[0m     \u001b[0mlatent_upreferences3\u001b[0m\u001b[0;34m[\u001b[0m\u001b[0muser_id\u001b[0m\u001b[0;34m]\u001b[0m \u001b[0;34m-=\u001b[0m \u001b[0malpha\u001b[0m \u001b[0;34m*\u001b[0m \u001b[0merr\u001b[0m \u001b[0;34m*\u001b[0m \u001b[0mlatent_ifeatures3\u001b[0m\u001b[0;34m[\u001b[0m\u001b[0mitem_id\u001b[0m\u001b[0;34m]\u001b[0m\u001b[0;34m\u001b[0m\u001b[0;34m\u001b[0m\u001b[0m\n\u001b[0;32m---> 17\u001b[0;31m     \u001b[0mlatent_ifeatures3\u001b[0m\u001b[0;34m[\u001b[0m\u001b[0mitem_id\u001b[0m\u001b[0;34m]\u001b[0m \u001b[0;34m-=\u001b[0m \u001b[0malpha\u001b[0m \u001b[0;34m*\u001b[0m \u001b[0merr\u001b[0m \u001b[0;34m*\u001b[0m \u001b[0mupref_values3\u001b[0m\u001b[0;34m\u001b[0m\u001b[0;34m\u001b[0m\u001b[0m\n\u001b[0m\u001b[1;32m     18\u001b[0m     \u001b[0;32mreturn\u001b[0m \u001b[0merr\u001b[0m\u001b[0;34m\u001b[0m\u001b[0;34m\u001b[0m\u001b[0m\n\u001b[1;32m     19\u001b[0m \u001b[0;34m\u001b[0m\u001b[0m\n",
            "\u001b[0;31mKeyboardInterrupt\u001b[0m: "
          ]
        }
      ]
    },
    {
      "cell_type": "code",
      "metadata": {
        "id": "jMOPCb1RHkjl",
        "colab_type": "code",
        "colab": {}
      },
      "source": [
        "prediction3 = latent_upreferences3.dot(latent_ifeatures3.T)\n",
        "prediction3"
      ],
      "execution_count": 0,
      "outputs": []
    },
    {
      "cell_type": "code",
      "metadata": {
        "id": "MveT0A8lHvYy",
        "colab_type": "code",
        "colab": {}
      },
      "source": [
        "values3 = [zip(uratings3[i], prediction3[i]) for i in range(prediction3.shape[0])]\n",
        "comparison_data3 = pd.DataFrame(values3)\n",
        "comparison_data3.columns = df.columns"
      ],
      "execution_count": 0,
      "outputs": []
    },
    {
      "cell_type": "code",
      "metadata": {
        "id": "153dN4b0H4nS",
        "colab_type": "code",
        "colab": {}
      },
      "source": [
        "comparison_data3"
      ],
      "execution_count": 0,
      "outputs": []
    },
    {
      "cell_type": "code",
      "metadata": {
        "id": "jHMAHLPgH77E",
        "colab_type": "code",
        "outputId": "2b1b343b-ef9a-404c-81e2-2ca0b9605aa1",
        "colab": {
          "base_uri": "https://localhost:8080/",
          "height": 34
        }
      },
      "source": [
        "error3=(prediction3[idx[0][:],idx[1][:]]-arr[idx[0][:],idx[1][:]])**2\n",
        "mse3 = sum(error3)/len(error3)\n",
        "mse3"
      ],
      "execution_count": 0,
      "outputs": [
        {
          "output_type": "execute_result",
          "data": {
            "text/plain": [
              "101.97278824036097"
            ]
          },
          "metadata": {
            "tags": []
          },
          "execution_count": 43
        }
      ]
    },
    {
      "cell_type": "markdown",
      "metadata": {
        "id": "0ESmJXb9lRFQ",
        "colab_type": "text"
      },
      "source": [
        "With change in features from 2 to 3 and increase in iterations from 100 to 200 the MSE reduced with the same learning rate\n",
        "\n",
        "The learning rate is similar when the learning rate was increased to 0.0005 with less iterations and increased features"
      ]
    }
  ]
}