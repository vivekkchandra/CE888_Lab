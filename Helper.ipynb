{
  "nbformat": 4,
  "nbformat_minor": 0,
  "metadata": {
    "colab": {
      "name": "Copy of Untitled2.ipynb",
      "provenance": [],
      "toc_visible": true,
      "include_colab_link": true
    },
    "kernelspec": {
      "name": "python3",
      "display_name": "Python 3"
    }
  },
  "cells": [
    {
      "cell_type": "markdown",
      "metadata": {
        "id": "view-in-github",
        "colab_type": "text"
      },
      "source": [
        "<a href=\"https://colab.research.google.com/github/vivekkchandra/CE888_Lab/blob/master/Helper.ipynb\" target=\"_parent\"><img src=\"https://colab.research.google.com/assets/colab-badge.svg\" alt=\"Open In Colab\"/></a>"
      ]
    },
    {
      "cell_type": "code",
      "metadata": {
        "id": "dV8PN2Vfz2cD",
        "colab_type": "code",
        "colab": {}
      },
      "source": [
        "import pandas as pd\n",
        "import numpy as np\n",
        "from IPython.display import Image\n",
        "np.set_printoptions(precision = 3)"
      ],
      "execution_count": 0,
      "outputs": []
    },
    {
      "cell_type": "code",
      "metadata": {
        "id": "KYF9Iig20B2F",
        "colab_type": "code",
        "colab": {}
      },
      "source": [
        "#Upload file\n",
        "df = pd.read_csv('jester-data-1.csv', header=None)"
      ],
      "execution_count": 0,
      "outputs": []
    },
    {
      "cell_type": "code",
      "metadata": {
        "id": "GbWdS47V0KmZ",
        "colab_type": "code",
        "outputId": "681dc993-e123-413e-90e0-c25ecca5bdef",
        "colab": {
          "base_uri": "https://localhost:8080/",
          "height": 151
        }
      },
      "source": [
        "array = df.values\n",
        "print(array.shape)\n",
        "print(array)"
      ],
      "execution_count": 0,
      "outputs": [
        {
          "output_type": "stream",
          "text": [
            "(24983, 101)\n",
            "[[ 74.    -7.82   8.79 ...  99.    99.    99.  ]\n",
            " [100.     4.08  -0.29 ...   0.34  -4.32   1.07]\n",
            " [ 49.    99.    99.   ...  99.    99.    99.  ]\n",
            " ...\n",
            " [ 39.    99.    99.   ...  99.    99.    99.  ]\n",
            " [ 37.    99.    99.   ...  99.    99.    99.  ]\n",
            " [ 72.     2.43   2.67 ...  99.    99.    99.  ]]\n"
          ],
          "name": "stdout"
        }
      ]
    },
    {
      "cell_type": "code",
      "metadata": {
        "id": "DUaoGwDd0My2",
        "colab_type": "code",
        "outputId": "8eb29418-a36e-4b26-e8b8-eadb713b143e",
        "colab": {
          "base_uri": "https://localhost:8080/",
          "height": 50
        }
      },
      "source": [
        "# shorthand for np.asarray(condition).nonzero().\n",
        "rate = np.where(array!=99)\n",
        "print(rate)\n",
        "print(len(rate[0]), rate[1].shape)"
      ],
      "execution_count": 0,
      "outputs": [
        {
          "output_type": "stream",
          "text": [
            "(array([    0,     0,     0, ..., 24982, 24982, 24982]), array([ 0,  1,  2, ..., 70, 71, 87]))\n",
            "1835357 (1835357,)\n"
          ],
          "name": "stdout"
        }
      ]
    },
    {
      "cell_type": "code",
      "metadata": {
        "id": "zKU9H4j5NNM8",
        "colab_type": "code",
        "outputId": "6a1f7714-fa15-4b90-d59c-5b18301876ee",
        "colab": {
          "base_uri": "https://localhost:8080/",
          "height": 34
        }
      },
      "source": [
        "a1=([[4, 5, 6],\n",
        "    [7, 5, 9]])\n",
        "np.where(a1 == 5)"
      ],
      "execution_count": 0,
      "outputs": [
        {
          "output_type": "execute_result",
          "data": {
            "text/plain": [
              "(array([], dtype=int64),)"
            ]
          },
          "metadata": {
            "tags": []
          },
          "execution_count": 6
        }
      ]
    },
    {
      "cell_type": "code",
      "metadata": {
        "id": "r9IWlvFB0d0r",
        "colab_type": "code",
        "colab": {}
      },
      "source": [
        "def replace(orig, percentage=0.1):\n",
        "  \"\"\"\n",
        "  Replaces 'percentage'% of the original values in 'orig' with 99's\n",
        "  :param orig: original data array\n",
        "  :param percentage: percentage of values to replace (0<percentage<1)\n",
        "  \"\"\"\n",
        "  new_data = orig.copy()\n",
        "  rate = np.where(array!=99)\n",
        "  n_rate = len(rate[0])\n",
        "  idx = np.random.choice(n_rate, size=int(percentage*n_rate), replace=False)\n",
        "  new_data[rate[0][idx], rate[1][idx]] = 99\n",
        "  return new_data, (rate[0][idx], rate[1][idx])"
      ],
      "execution_count": 0,
      "outputs": []
    },
    {
      "cell_type": "code",
      "metadata": {
        "id": "NI3PDwFf0ggz",
        "colab_type": "code",
        "colab": {}
      },
      "source": [
        "#replace 10% 99 -Validation set\n",
        "new_array, idx = replace(array, 0.1)"
      ],
      "execution_count": 0,
      "outputs": []
    },
    {
      "cell_type": "code",
      "metadata": {
        "id": "nRsFSfFi0xr0",
        "colab_type": "code",
        "outputId": "738674f3-e9fe-49d1-aac0-b0ce37f6bb67",
        "colab": {
          "base_uri": "https://localhost:8080/",
          "height": 34
        }
      },
      "source": [
        "array[idx[0][0], idx[1][0]]"
      ],
      "execution_count": 0,
      "outputs": [
        {
          "output_type": "execute_result",
          "data": {
            "text/plain": [
              "3.45"
            ]
          },
          "metadata": {
            "tags": []
          },
          "execution_count": 13
        }
      ]
    },
    {
      "cell_type": "code",
      "metadata": {
        "id": "ivEhwXoz0zSq",
        "colab_type": "code",
        "outputId": "ca49df70-7836-4c97-bc9e-e2cee88afde6",
        "colab": {
          "base_uri": "https://localhost:8080/",
          "height": 34
        }
      },
      "source": [
        "new_array[idx[0][0], idx[1][0]]"
      ],
      "execution_count": 0,
      "outputs": [
        {
          "output_type": "execute_result",
          "data": {
            "text/plain": [
              "99.0"
            ]
          },
          "metadata": {
            "tags": []
          },
          "execution_count": 14
        }
      ]
    }
  ]
}