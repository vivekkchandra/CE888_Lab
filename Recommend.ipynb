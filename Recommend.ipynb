{
  "nbformat": 4,
  "nbformat_minor": 0,
  "metadata": {
    "colab": {
      "name": "Untitled6.ipynb",
      "provenance": [],
      "authorship_tag": "ABX9TyNIq/8z7R+8QIm3gOMOwQY1",
      "include_colab_link": true
    },
    "kernelspec": {
      "name": "python3",
      "display_name": "Python 3"
    }
  },
  "cells": [
    {
      "cell_type": "markdown",
      "metadata": {
        "id": "view-in-github",
        "colab_type": "text"
      },
      "source": [
        "<a href=\"https://colab.research.google.com/github/vivekkchandra/CE888_Lab/blob/master/Recommend.ipynb\" target=\"_parent\"><img src=\"https://colab.research.google.com/assets/colab-badge.svg\" alt=\"Open In Colab\"/></a>"
      ]
    },
    {
      "cell_type": "code",
      "metadata": {
        "id": "KaZUiqJ627_H",
        "colab_type": "code",
        "colab": {}
      },
      "source": [
        "import pandas as pd\n",
        "import numpy as np\n",
        "from IPython.display import Image\n",
        "np.set_printoptions(precision = 3)"
      ],
      "execution_count": 0,
      "outputs": []
    },
    {
      "cell_type": "code",
      "metadata": {
        "id": "YLQW4hg029Qc",
        "colab_type": "code",
        "colab": {}
      },
      "source": [
        "uratings_df = pd.read_csv(\"user_ratings.csv\")\n",
        "ufeatures_df = pd.read_csv(\"user_features.csv\")\n",
        "ifeatures_df = pd.read_csv(\"item_features.csv\")"
      ],
      "execution_count": 0,
      "outputs": []
    },
    {
      "cell_type": "code",
      "metadata": {
        "id": "0O5Dtg5K3FkC",
        "colab_type": "code",
        "colab": {}
      },
      "source": [
        "ufeatures_df[\"key\"] = 0\n",
        "ufeatures_df[\"user_id\"] = range(ufeatures_df.shape[0])\n",
        "ifeatures_df[\"key\"] = 0\n",
        "ifeatures_df[\"item_id\"] = range(ifeatures_df.shape[0])\n",
        "merged_df = pd.merge(ufeatures_df, ifeatures_df, left_index=True, on=\"key\")\n",
        "merged_df.drop(labels='key', axis=1, inplace=True) \n",
        "merged_df[[\"item_id\", \"user_id\"]] "
      ],
      "execution_count": 0,
      "outputs": []
    },
    {
      "cell_type": "code",
      "metadata": {
        "id": "NwFjuPxQ3wUA",
        "colab_type": "code",
        "colab": {}
      },
      "source": [
        "merged_df[\"rating\"] = map(lambda ids: uratings_df.values[ids[1]][ids[2]], \n",
        "                          merged_df[[\"user_id\", \"item_id\"]].itertuples())\n",
        "train = merged_df.dropna()\n",
        "test = merged_df[merged_df.isnull().any(axis=1)]"
      ],
      "execution_count": 0,
      "outputs": []
    },
    {
      "cell_type": "code",
      "metadata": {
        "id": "cX_r6gr35FcW",
        "colab_type": "code",
        "outputId": "db620490-4829-416f-8b9d-02857c2e8768",
        "colab": {
          "base_uri": "https://localhost:8080/",
          "height": 185
        }
      },
      "source": [
        "\n",
        "n_latent_factors = 2\n",
        "\n",
        "uratings = uratings_df.values\n",
        "latent_upreferences = np.random.random((uratings.shape[0], n_latent_factors))\n",
        "latent_ifeatures = np.random.random((uratings.shape[1], n_latent_factors))\n",
        "\n",
        "ufeatures = ufeatures_df.values\n",
        "ifeatures = ifeatures_df.values\n",
        "\n",
        "ufeatures = np.concatenate([np.ones(shape=(ufeatures.shape[0],1)), ufeatures], axis=1)\n",
        "ifeatures = np.concatenate([np.ones(shape=(ifeatures.shape[0],1)), ifeatures], axis=1)\n",
        "\n",
        "ufeatures_weights = np.random.random((uratings.shape[0], ufeatures.shape[1]))\n",
        "ifeatures_weights = np.random.random((uratings.shape[1], ifeatures.shape[1]))\n",
        "\n",
        "print(ufeatures)"
      ],
      "execution_count": 0,
      "outputs": [
        {
          "output_type": "stream",
          "text": [
            "[[1. 1. 0. 0. 0.]\n",
            " [1. 0. 1. 0. 1.]\n",
            " [1. 0. 0. 0. 2.]\n",
            " [1. 1. 0. 0. 3.]\n",
            " [1. 0. 1. 0. 4.]\n",
            " [1. 0. 0. 0. 5.]\n",
            " [1. 0. 0. 0. 6.]\n",
            " [1. 1. 0. 0. 7.]\n",
            " [1. 0. 1. 0. 8.]\n",
            " [1. 1. 0. 0. 9.]]\n"
          ],
          "name": "stdout"
        }
      ]
    },
    {
      "cell_type": "code",
      "metadata": {
        "id": "LdBu-Pb05yAi",
        "colab_type": "code",
        "colab": {}
      },
      "source": [
        "def predict_rating(user_id, item_id):\n",
        "    \"\"\"\n",
        "    Predict a rating given a user_id and an item_id.\n",
        "    \"\"\"\n",
        "    upreference = latent_upreferences[user_id]\n",
        "    ipreference = latent_ifeatures[item_id]\n",
        "    \n",
        "    uscore = ufeatures_weights[user_id].dot(ufeatures[user_id])\n",
        "    iscore = ifeatures_weights[item_id].dot(ifeatures[item_id])\n",
        "    #print(user_preference.dot(item_preference), user_score, item_score)\n",
        "    return upreference.dot(ipreference) + uscore + iscore\n",
        "\n",
        "\n",
        "def train(user_id, item_id, rating, alpha=0.001, \n",
        "          latent_feature_weight_decay=0.1,\n",
        "          user_weight_decay=0.01, item_weight_decay=0.0001):\n",
        "    #print(item_id)\n",
        "    prediction_rating = predict_rating(user_id, item_id)\n",
        "    err = prediction_rating - rating\n",
        "    #print(err)\n",
        "    upref_values = latent_upreferences[user_id][:]\n",
        "    latent_upreferences[user_id] -= alpha * err * (latent_ifeatures[item_id] + latent_feature_weight_decay * latent_upreferences[user_id])\n",
        "    latent_ifeatures[item_id] -= alpha * err * (upref_values + latent_feature_weight_decay * latent_ifeatures[item_id])\n",
        "    \n",
        "    ufeatures_weights[user_id] -=alpha * err * (ufeatures[user_id] + user_weight_decay * ufeatures_weights[user_id])\n",
        "    ifeatures_weights[item_id] -=alpha * err * (ifeatures_weights[item_id] + item_weight_decay * ifeatures_weights[item_id])\n",
        "    \n",
        "    return err\n",
        "\n",
        "\n",
        "def sgd(iterations=30000):\n",
        "    \"\"\" \n",
        "    Iterate over all users and all items and train for \n",
        "    a certain number of iterations\n",
        "    \"\"\"\n",
        "    for iteration in range(iterations):\n",
        "        error = []\n",
        "        for user_id in range(latent_upreferences.shape[0]):\n",
        "            for item_id in range(latent_ifeatures.shape[0]):\n",
        "                rating = uratings[user_id][item_id]\n",
        "                if not np.isnan(rating):\n",
        "                    err = train(user_id, item_id, rating)\n",
        "                    error.append(err)\n",
        "    mse = (np.array(error) ** 2).mean()          \n",
        "    print(mse)"
      ],
      "execution_count": 0,
      "outputs": []
    },
    {
      "cell_type": "code",
      "metadata": {
        "id": "c3czS6qO6qfG",
        "colab_type": "code",
        "outputId": "c5b1fab3-14c3-4a93-bd47-299405e4f497",
        "colab": {
          "base_uri": "https://localhost:8080/",
          "height": 185
        }
      },
      "source": [
        "for _ in range(10): \n",
        "    sgd()"
      ],
      "execution_count": 0,
      "outputs": [
        {
          "output_type": "stream",
          "text": [
            "0.2782875140601273\n",
            "0.2747840946385837\n",
            "0.27373859633551134\n",
            "0.2732977930675394\n",
            "0.2730972631262692\n",
            "0.2730183862871594\n",
            "0.2730120315340104\n",
            "0.2730548555870435\n",
            "0.27313488963277155\n",
            "0.27324585168429333\n"
          ],
          "name": "stdout"
        }
      ]
    },
    {
      "cell_type": "code",
      "metadata": {
        "id": "GcpvrJf78EaF",
        "colab_type": "code",
        "colab": {}
      },
      "source": [
        "predictions = np.zeros(shape=(latent_upreferences.shape[0], latent_ifeatures.shape[0]))\n",
        "print(ufeatures_weights)\n",
        "print(ifeatures_weights)\n",
        "for user_id in range(latent_upreferences.shape[0]):\n",
        "    for item_id in range(latent_ifeatures.shape[0]):\n",
        "        predictions[user_id, item_id] =  predict_rating(user_id, item_id)"
      ],
      "execution_count": 0,
      "outputs": []
    },
    {
      "cell_type": "code",
      "metadata": {
        "id": "LjOmW35S8LHG",
        "colab_type": "code",
        "outputId": "21e52039-5be7-4a68-acbb-f9050feb20f6",
        "colab": {
          "base_uri": "https://localhost:8080/",
          "height": 343
        }
      },
      "source": [
        "values = [zip(uratings[i], predictions[i]) for i in range(predictions.shape[0])]\n",
        "comparison_data = pd.DataFrame(values)\n",
        "comparison_data.columns = uratings_df.columns\n",
        "comparison_data"
      ],
      "execution_count": 0,
      "outputs": [
        {
          "output_type": "execute_result",
          "data": {
            "text/html": [
              "<div>\n",
              "<style scoped>\n",
              "    .dataframe tbody tr th:only-of-type {\n",
              "        vertical-align: middle;\n",
              "    }\n",
              "\n",
              "    .dataframe tbody tr th {\n",
              "        vertical-align: top;\n",
              "    }\n",
              "\n",
              "    .dataframe thead th {\n",
              "        text-align: right;\n",
              "    }\n",
              "</style>\n",
              "<table border=\"1\" class=\"dataframe\">\n",
              "  <thead>\n",
              "    <tr style=\"text-align: right;\">\n",
              "      <th></th>\n",
              "      <th>The Call of Cthulhu</th>\n",
              "      <th>Frankenstein</th>\n",
              "      <th>Dracula</th>\n",
              "      <th>Neuromancer</th>\n",
              "      <th>Space Odyssey</th>\n",
              "    </tr>\n",
              "  </thead>\n",
              "  <tbody>\n",
              "    <tr>\n",
              "      <th>0</th>\n",
              "      <td>(8.0, 7.938224526594304)</td>\n",
              "      <td>(2.0, 2.228445927223479)</td>\n",
              "      <td>(nan, 21.369956801771703)</td>\n",
              "      <td>(5.0, 4.856364917905309)</td>\n",
              "      <td>(4.0, 3.9791579435318383)</td>\n",
              "    </tr>\n",
              "    <tr>\n",
              "      <th>1</th>\n",
              "      <td>(3.0, 2.9032569428953203)</td>\n",
              "      <td>(2.0, 2.3639390898008186)</td>\n",
              "      <td>(nan, -32.591377729615964)</td>\n",
              "      <td>(7.0, 6.770225814389079)</td>\n",
              "      <td>(7.0, 6.966957257868175)</td>\n",
              "    </tr>\n",
              "    <tr>\n",
              "      <th>2</th>\n",
              "      <td>(9.0, 8.93776295326112)</td>\n",
              "      <td>(nan, 4.625133317345899)</td>\n",
              "      <td>(7.0, 7.007455585149249)</td>\n",
              "      <td>(8.0, 8.051721957208958)</td>\n",
              "      <td>(5.0, 4.999653981827789)</td>\n",
              "    </tr>\n",
              "    <tr>\n",
              "      <th>3</th>\n",
              "      <td>(nan, 8.910713859082188)</td>\n",
              "      <td>(nan, 4.961062116543591)</td>\n",
              "      <td>(7.0, 7.000033726304304)</td>\n",
              "      <td>(8.0, 7.999290900374654)</td>\n",
              "      <td>(9.0, 8.999311597620473)</td>\n",
              "    </tr>\n",
              "    <tr>\n",
              "      <th>4</th>\n",
              "      <td>(nan, 4.9049084566403085)</td>\n",
              "      <td>(1.0, 0.6842750747700012)</td>\n",
              "      <td>(8.0, 8.006865479030765)</td>\n",
              "      <td>(3.0, 3.2655447243132603)</td>\n",
              "      <td>(7.0, 7.027929929130206)</td>\n",
              "    </tr>\n",
              "    <tr>\n",
              "      <th>5</th>\n",
              "      <td>(2.0, 2.00525507817647)</td>\n",
              "      <td>(3.0, 2.994537195737978)</td>\n",
              "      <td>(5.0, 4.99963016626663)</td>\n",
              "      <td>(nan, 0.059414147940308304)</td>\n",
              "      <td>(nan, 61.53431362792209)</td>\n",
              "    </tr>\n",
              "    <tr>\n",
              "      <th>6</th>\n",
              "      <td>(4.0, 4.443750332728209)</td>\n",
              "      <td>(2.0, 0.3880007660764865)</td>\n",
              "      <td>(nan, 6.304487302515303)</td>\n",
              "      <td>(2.0, 2.9785857726844744)</td>\n",
              "      <td>(7.0, 7.14247818520789)</td>\n",
              "    </tr>\n",
              "    <tr>\n",
              "      <th>7</th>\n",
              "      <td>(7.0, 6.441255223335681)</td>\n",
              "      <td>(1.0, 2.9244629141597165)</td>\n",
              "      <td>(2.0, 2.062285176883774)</td>\n",
              "      <td>(7.0, 5.8697476358268075)</td>\n",
              "      <td>(9.0, 8.833516266131923)</td>\n",
              "    </tr>\n",
              "    <tr>\n",
              "      <th>8</th>\n",
              "      <td>(3.0, 3.1599541290024384)</td>\n",
              "      <td>(3.0, 2.4249139824740045)</td>\n",
              "      <td>(nan, -34.34343262970783)</td>\n",
              "      <td>(7.0, 7.337471359121851)</td>\n",
              "      <td>(3.0, 3.04895696058054)</td>\n",
              "    </tr>\n",
              "    <tr>\n",
              "      <th>9</th>\n",
              "      <td>(4.0, 4.165603314035945)</td>\n",
              "      <td>(nan, -0.14641924212746985)</td>\n",
              "      <td>(5.0, 4.993052811328214)</td>\n",
              "      <td>(3.0, 2.8698128958849236)</td>\n",
              "      <td>(3.0, 2.999236260790674)</td>\n",
              "    </tr>\n",
              "  </tbody>\n",
              "</table>\n",
              "</div>"
            ],
            "text/plain": [
              "         The Call of Cthulhu  ...              Space Odyssey\n",
              "0   (8.0, 7.938224526594304)  ...  (4.0, 3.9791579435318383)\n",
              "1  (3.0, 2.9032569428953203)  ...   (7.0, 6.966957257868175)\n",
              "2    (9.0, 8.93776295326112)  ...   (5.0, 4.999653981827789)\n",
              "3   (nan, 8.910713859082188)  ...   (9.0, 8.999311597620473)\n",
              "4  (nan, 4.9049084566403085)  ...   (7.0, 7.027929929130206)\n",
              "5    (2.0, 2.00525507817647)  ...   (nan, 61.53431362792209)\n",
              "6   (4.0, 4.443750332728209)  ...    (7.0, 7.14247818520789)\n",
              "7   (7.0, 6.441255223335681)  ...   (9.0, 8.833516266131923)\n",
              "8  (3.0, 3.1599541290024384)  ...    (3.0, 3.04895696058054)\n",
              "9   (4.0, 4.165603314035945)  ...   (3.0, 2.999236260790674)\n",
              "\n",
              "[10 rows x 5 columns]"
            ]
          },
          "metadata": {
            "tags": []
          },
          "execution_count": 22
        }
      ]
    }
  ]
}